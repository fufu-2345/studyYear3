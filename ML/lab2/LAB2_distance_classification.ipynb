{
  "cells": [
    {
      "cell_type": "markdown",
      "metadata": {
        "id": "ANklQzgsFLL9"
      },
      "source": [
        "# Pima Indians Diabetes dataset\n",
        "![](https://ankhoudary12.github.io/assets/diabetes_images/pima.jpeg)\n",
        "\n",
        "The features (attributes) of the dataset:\n",
        "*   Pregnancies (preg) : number of times pregnant\n",
        "* Glucose (Plas): concentration of glucose in blood 2 hrs after ingestion of sugary drink (mmol/L)\n",
        "*   Blood Pressure (pres): diastolic blood pressure (mm Hg)\n",
        "*   Skin Thickness (skin): triceps skin fold thickness (mm)\n",
        "*   Insulin (insu): concentration of insulin in blood 2 hrs after ingestion of sugary drink (μU/mL)\n",
        "*   BMI (mass): body mass index (weight in kg/(height in m)^2)\n",
        "*   Diabetes Pedigree Function (Predi): 0:1 value generated from familial diabetes history/risk\n",
        "*   Age: age of patient\n",
        "\n",
        "The output of the dataset:\n",
        "* Label: 0 (no diabetes)  and 1 (Type II diabetes)\n"
      ]
    },
    {
      "cell_type": "markdown",
      "metadata": {
        "id": "T4pHboohE7g-"
      },
      "source": [
        "## อ่านไฟล์ pima_diab.csv จากนั้นแสดง 20 rows แรกของชุดข้อมูล\n",
        "** ให้นักศึกษาโหลดไฟล์ชุดข้อมูล pima diabete จาก google classroom"
      ]
    },
    {
      "cell_type": "code",
      "execution_count": 140,
      "metadata": {
        "colab": {
          "base_uri": "https://localhost:8080/",
          "height": 206
        },
        "id": "OWPKi4guzIk7",
        "outputId": "6af0c6eb-d82a-4c90-c354-159d3eed18cb"
      },
      "outputs": [
        {
          "data": {
            "text/html": [
              "<div>\n",
              "<style scoped>\n",
              "    .dataframe tbody tr th:only-of-type {\n",
              "        vertical-align: middle;\n",
              "    }\n",
              "\n",
              "    .dataframe tbody tr th {\n",
              "        vertical-align: top;\n",
              "    }\n",
              "\n",
              "    .dataframe thead th {\n",
              "        text-align: right;\n",
              "    }\n",
              "</style>\n",
              "<table border=\"1\" class=\"dataframe\">\n",
              "  <thead>\n",
              "    <tr style=\"text-align: right;\">\n",
              "      <th></th>\n",
              "      <th>Unnamed: 0</th>\n",
              "      <th>preg</th>\n",
              "      <th>plas</th>\n",
              "      <th>pres</th>\n",
              "      <th>skin</th>\n",
              "      <th>insu</th>\n",
              "      <th>mass</th>\n",
              "      <th>pedi</th>\n",
              "      <th>age</th>\n",
              "      <th>class</th>\n",
              "    </tr>\n",
              "  </thead>\n",
              "  <tbody>\n",
              "    <tr>\n",
              "      <th>0</th>\n",
              "      <td>0</td>\n",
              "      <td>6.0</td>\n",
              "      <td>148.0</td>\n",
              "      <td>72.0</td>\n",
              "      <td>35.0</td>\n",
              "      <td>NaN</td>\n",
              "      <td>33.6</td>\n",
              "      <td>0.627</td>\n",
              "      <td>50</td>\n",
              "      <td>tested_positive</td>\n",
              "    </tr>\n",
              "    <tr>\n",
              "      <th>1</th>\n",
              "      <td>1</td>\n",
              "      <td>1.0</td>\n",
              "      <td>85.0</td>\n",
              "      <td>66.0</td>\n",
              "      <td>29.0</td>\n",
              "      <td>NaN</td>\n",
              "      <td>26.6</td>\n",
              "      <td>0.351</td>\n",
              "      <td>31</td>\n",
              "      <td>tested_negative</td>\n",
              "    </tr>\n",
              "    <tr>\n",
              "      <th>2</th>\n",
              "      <td>2</td>\n",
              "      <td>8.0</td>\n",
              "      <td>183.0</td>\n",
              "      <td>64.0</td>\n",
              "      <td>NaN</td>\n",
              "      <td>NaN</td>\n",
              "      <td>23.3</td>\n",
              "      <td>0.672</td>\n",
              "      <td>32</td>\n",
              "      <td>tested_positive</td>\n",
              "    </tr>\n",
              "    <tr>\n",
              "      <th>3</th>\n",
              "      <td>3</td>\n",
              "      <td>1.0</td>\n",
              "      <td>89.0</td>\n",
              "      <td>66.0</td>\n",
              "      <td>23.0</td>\n",
              "      <td>94.0</td>\n",
              "      <td>28.1</td>\n",
              "      <td>0.167</td>\n",
              "      <td>21</td>\n",
              "      <td>tested_negative</td>\n",
              "    </tr>\n",
              "    <tr>\n",
              "      <th>4</th>\n",
              "      <td>4</td>\n",
              "      <td>NaN</td>\n",
              "      <td>137.0</td>\n",
              "      <td>40.0</td>\n",
              "      <td>35.0</td>\n",
              "      <td>168.0</td>\n",
              "      <td>43.1</td>\n",
              "      <td>2.288</td>\n",
              "      <td>33</td>\n",
              "      <td>tested_positive</td>\n",
              "    </tr>\n",
              "    <tr>\n",
              "      <th>5</th>\n",
              "      <td>5</td>\n",
              "      <td>5.0</td>\n",
              "      <td>116.0</td>\n",
              "      <td>74.0</td>\n",
              "      <td>NaN</td>\n",
              "      <td>NaN</td>\n",
              "      <td>25.6</td>\n",
              "      <td>0.201</td>\n",
              "      <td>30</td>\n",
              "      <td>tested_negative</td>\n",
              "    </tr>\n",
              "    <tr>\n",
              "      <th>6</th>\n",
              "      <td>6</td>\n",
              "      <td>3.0</td>\n",
              "      <td>78.0</td>\n",
              "      <td>50.0</td>\n",
              "      <td>32.0</td>\n",
              "      <td>88.0</td>\n",
              "      <td>31.0</td>\n",
              "      <td>0.248</td>\n",
              "      <td>26</td>\n",
              "      <td>tested_positive</td>\n",
              "    </tr>\n",
              "    <tr>\n",
              "      <th>7</th>\n",
              "      <td>7</td>\n",
              "      <td>10.0</td>\n",
              "      <td>115.0</td>\n",
              "      <td>NaN</td>\n",
              "      <td>NaN</td>\n",
              "      <td>NaN</td>\n",
              "      <td>35.3</td>\n",
              "      <td>0.134</td>\n",
              "      <td>29</td>\n",
              "      <td>tested_negative</td>\n",
              "    </tr>\n",
              "    <tr>\n",
              "      <th>8</th>\n",
              "      <td>8</td>\n",
              "      <td>2.0</td>\n",
              "      <td>197.0</td>\n",
              "      <td>70.0</td>\n",
              "      <td>45.0</td>\n",
              "      <td>543.0</td>\n",
              "      <td>30.5</td>\n",
              "      <td>0.158</td>\n",
              "      <td>53</td>\n",
              "      <td>tested_positive</td>\n",
              "    </tr>\n",
              "    <tr>\n",
              "      <th>9</th>\n",
              "      <td>9</td>\n",
              "      <td>8.0</td>\n",
              "      <td>125.0</td>\n",
              "      <td>96.0</td>\n",
              "      <td>NaN</td>\n",
              "      <td>NaN</td>\n",
              "      <td>NaN</td>\n",
              "      <td>0.232</td>\n",
              "      <td>54</td>\n",
              "      <td>tested_positive</td>\n",
              "    </tr>\n",
              "    <tr>\n",
              "      <th>10</th>\n",
              "      <td>10</td>\n",
              "      <td>4.0</td>\n",
              "      <td>110.0</td>\n",
              "      <td>92.0</td>\n",
              "      <td>NaN</td>\n",
              "      <td>NaN</td>\n",
              "      <td>37.6</td>\n",
              "      <td>0.191</td>\n",
              "      <td>30</td>\n",
              "      <td>tested_negative</td>\n",
              "    </tr>\n",
              "    <tr>\n",
              "      <th>11</th>\n",
              "      <td>11</td>\n",
              "      <td>10.0</td>\n",
              "      <td>168.0</td>\n",
              "      <td>74.0</td>\n",
              "      <td>NaN</td>\n",
              "      <td>NaN</td>\n",
              "      <td>38.0</td>\n",
              "      <td>0.537</td>\n",
              "      <td>34</td>\n",
              "      <td>tested_positive</td>\n",
              "    </tr>\n",
              "    <tr>\n",
              "      <th>12</th>\n",
              "      <td>12</td>\n",
              "      <td>10.0</td>\n",
              "      <td>139.0</td>\n",
              "      <td>80.0</td>\n",
              "      <td>NaN</td>\n",
              "      <td>NaN</td>\n",
              "      <td>27.1</td>\n",
              "      <td>1.441</td>\n",
              "      <td>57</td>\n",
              "      <td>tested_negative</td>\n",
              "    </tr>\n",
              "    <tr>\n",
              "      <th>13</th>\n",
              "      <td>13</td>\n",
              "      <td>1.0</td>\n",
              "      <td>189.0</td>\n",
              "      <td>60.0</td>\n",
              "      <td>23.0</td>\n",
              "      <td>846.0</td>\n",
              "      <td>30.1</td>\n",
              "      <td>0.398</td>\n",
              "      <td>59</td>\n",
              "      <td>tested_positive</td>\n",
              "    </tr>\n",
              "    <tr>\n",
              "      <th>14</th>\n",
              "      <td>14</td>\n",
              "      <td>5.0</td>\n",
              "      <td>166.0</td>\n",
              "      <td>72.0</td>\n",
              "      <td>19.0</td>\n",
              "      <td>175.0</td>\n",
              "      <td>25.8</td>\n",
              "      <td>0.587</td>\n",
              "      <td>51</td>\n",
              "      <td>tested_positive</td>\n",
              "    </tr>\n",
              "    <tr>\n",
              "      <th>15</th>\n",
              "      <td>15</td>\n",
              "      <td>7.0</td>\n",
              "      <td>100.0</td>\n",
              "      <td>NaN</td>\n",
              "      <td>NaN</td>\n",
              "      <td>NaN</td>\n",
              "      <td>30.0</td>\n",
              "      <td>0.484</td>\n",
              "      <td>32</td>\n",
              "      <td>tested_positive</td>\n",
              "    </tr>\n",
              "    <tr>\n",
              "      <th>16</th>\n",
              "      <td>16</td>\n",
              "      <td>NaN</td>\n",
              "      <td>118.0</td>\n",
              "      <td>84.0</td>\n",
              "      <td>47.0</td>\n",
              "      <td>230.0</td>\n",
              "      <td>45.8</td>\n",
              "      <td>0.551</td>\n",
              "      <td>31</td>\n",
              "      <td>tested_positive</td>\n",
              "    </tr>\n",
              "    <tr>\n",
              "      <th>17</th>\n",
              "      <td>17</td>\n",
              "      <td>7.0</td>\n",
              "      <td>107.0</td>\n",
              "      <td>74.0</td>\n",
              "      <td>NaN</td>\n",
              "      <td>NaN</td>\n",
              "      <td>29.6</td>\n",
              "      <td>0.254</td>\n",
              "      <td>31</td>\n",
              "      <td>tested_positive</td>\n",
              "    </tr>\n",
              "    <tr>\n",
              "      <th>18</th>\n",
              "      <td>18</td>\n",
              "      <td>1.0</td>\n",
              "      <td>103.0</td>\n",
              "      <td>30.0</td>\n",
              "      <td>38.0</td>\n",
              "      <td>83.0</td>\n",
              "      <td>43.3</td>\n",
              "      <td>0.183</td>\n",
              "      <td>33</td>\n",
              "      <td>tested_negative</td>\n",
              "    </tr>\n",
              "    <tr>\n",
              "      <th>19</th>\n",
              "      <td>19</td>\n",
              "      <td>1.0</td>\n",
              "      <td>115.0</td>\n",
              "      <td>70.0</td>\n",
              "      <td>30.0</td>\n",
              "      <td>96.0</td>\n",
              "      <td>34.6</td>\n",
              "      <td>0.529</td>\n",
              "      <td>32</td>\n",
              "      <td>tested_positive</td>\n",
              "    </tr>\n",
              "  </tbody>\n",
              "</table>\n",
              "</div>"
            ],
            "text/plain": [
              "    Unnamed: 0  preg   plas  pres  skin   insu  mass   pedi  age  \\\n",
              "0            0   6.0  148.0  72.0  35.0    NaN  33.6  0.627   50   \n",
              "1            1   1.0   85.0  66.0  29.0    NaN  26.6  0.351   31   \n",
              "2            2   8.0  183.0  64.0   NaN    NaN  23.3  0.672   32   \n",
              "3            3   1.0   89.0  66.0  23.0   94.0  28.1  0.167   21   \n",
              "4            4   NaN  137.0  40.0  35.0  168.0  43.1  2.288   33   \n",
              "5            5   5.0  116.0  74.0   NaN    NaN  25.6  0.201   30   \n",
              "6            6   3.0   78.0  50.0  32.0   88.0  31.0  0.248   26   \n",
              "7            7  10.0  115.0   NaN   NaN    NaN  35.3  0.134   29   \n",
              "8            8   2.0  197.0  70.0  45.0  543.0  30.5  0.158   53   \n",
              "9            9   8.0  125.0  96.0   NaN    NaN   NaN  0.232   54   \n",
              "10          10   4.0  110.0  92.0   NaN    NaN  37.6  0.191   30   \n",
              "11          11  10.0  168.0  74.0   NaN    NaN  38.0  0.537   34   \n",
              "12          12  10.0  139.0  80.0   NaN    NaN  27.1  1.441   57   \n",
              "13          13   1.0  189.0  60.0  23.0  846.0  30.1  0.398   59   \n",
              "14          14   5.0  166.0  72.0  19.0  175.0  25.8  0.587   51   \n",
              "15          15   7.0  100.0   NaN   NaN    NaN  30.0  0.484   32   \n",
              "16          16   NaN  118.0  84.0  47.0  230.0  45.8  0.551   31   \n",
              "17          17   7.0  107.0  74.0   NaN    NaN  29.6  0.254   31   \n",
              "18          18   1.0  103.0  30.0  38.0   83.0  43.3  0.183   33   \n",
              "19          19   1.0  115.0  70.0  30.0   96.0  34.6  0.529   32   \n",
              "\n",
              "              class  \n",
              "0   tested_positive  \n",
              "1   tested_negative  \n",
              "2   tested_positive  \n",
              "3   tested_negative  \n",
              "4   tested_positive  \n",
              "5   tested_negative  \n",
              "6   tested_positive  \n",
              "7   tested_negative  \n",
              "8   tested_positive  \n",
              "9   tested_positive  \n",
              "10  tested_negative  \n",
              "11  tested_positive  \n",
              "12  tested_negative  \n",
              "13  tested_positive  \n",
              "14  tested_positive  \n",
              "15  tested_positive  \n",
              "16  tested_positive  \n",
              "17  tested_positive  \n",
              "18  tested_negative  \n",
              "19  tested_positive  "
            ]
          },
          "execution_count": 140,
          "metadata": {},
          "output_type": "execute_result"
        }
      ],
      "source": [
        "import pandas as pd\n",
        "df=pd.read_csv('pima_diab.csv')\n",
        "df.head(20)"
      ]
    },
    {
      "cell_type": "markdown",
      "metadata": {},
      "source": [
        "### แสดงจำนวน samples ของผู้ป่วยที่เป็นเบาหวาน (tested_positive) และไม่เป็นเบาหวาน (tested_negative) "
      ]
    },
    {
      "cell_type": "code",
      "execution_count": 141,
      "metadata": {},
      "outputs": [
        {
          "data": {
            "text/plain": [
              "<bound method DataFrame.count of      Unnamed: 0  preg   plas  pres  skin   insu  mass   pedi  age  \\\n",
              "0             0   6.0  148.0  72.0  35.0    NaN  33.6  0.627   50   \n",
              "2             2   8.0  183.0  64.0   NaN    NaN  23.3  0.672   32   \n",
              "4             4   NaN  137.0  40.0  35.0  168.0  43.1  2.288   33   \n",
              "6             6   3.0   78.0  50.0  32.0   88.0  31.0  0.248   26   \n",
              "8             8   2.0  197.0  70.0  45.0  543.0  30.5  0.158   53   \n",
              "..          ...   ...    ...   ...   ...    ...   ...    ...  ...   \n",
              "755         755   1.0  128.0  88.0  39.0  110.0  36.5  1.057   37   \n",
              "757         757   NaN  123.0  72.0   NaN    NaN  36.3  0.258   52   \n",
              "759         759   6.0  190.0  92.0   NaN    NaN  35.5  0.278   66   \n",
              "761         761   9.0  170.0  74.0  31.0    NaN  44.0  0.403   43   \n",
              "766         766   1.0  126.0  60.0   NaN    NaN  30.1  0.349   47   \n",
              "\n",
              "               class  \n",
              "0    tested_positive  \n",
              "2    tested_positive  \n",
              "4    tested_positive  \n",
              "6    tested_positive  \n",
              "8    tested_positive  \n",
              "..               ...  \n",
              "755  tested_positive  \n",
              "757  tested_positive  \n",
              "759  tested_positive  \n",
              "761  tested_positive  \n",
              "766  tested_positive  \n",
              "\n",
              "[264 rows x 10 columns]>"
            ]
          },
          "execution_count": 141,
          "metadata": {},
          "output_type": "execute_result"
        }
      ],
      "source": [
        "posi=df.loc[df['class']==\"tested_positive\"].count\n",
        "nega=df.loc[df['class']==\"tested_negative\"].count\n",
        "posi"
      ]
    },
    {
      "cell_type": "code",
      "execution_count": 142,
      "metadata": {},
      "outputs": [
        {
          "data": {
            "text/plain": [
              "<bound method DataFrame.count of      Unnamed: 0  preg   plas  pres  skin   insu  mass   pedi  age  \\\n",
              "1             1   1.0   85.0  66.0  29.0    NaN  26.6  0.351   31   \n",
              "3             3   1.0   89.0  66.0  23.0   94.0  28.1  0.167   21   \n",
              "5             5   5.0  116.0  74.0   NaN    NaN  25.6  0.201   30   \n",
              "7             7  10.0  115.0   NaN   NaN    NaN  35.3  0.134   29   \n",
              "10           10   4.0  110.0  92.0   NaN    NaN  37.6  0.191   30   \n",
              "..          ...   ...    ...   ...   ...    ...   ...    ...  ...   \n",
              "758         758   1.0  106.0  76.0   NaN    NaN  37.5  0.197   26   \n",
              "760         760   2.0   88.0  58.0  26.0   16.0  28.4  0.766   22   \n",
              "762         762   9.0   89.0  62.0   NaN    NaN  22.5  0.142   33   \n",
              "763         763  10.0  101.0  76.0  48.0  180.0  32.9  0.171   63   \n",
              "767         767   1.0   93.0  70.0  31.0    NaN  30.4  0.315   23   \n",
              "\n",
              "               class  \n",
              "1    tested_negative  \n",
              "3    tested_negative  \n",
              "5    tested_negative  \n",
              "7    tested_negative  \n",
              "10   tested_negative  \n",
              "..               ...  \n",
              "758  tested_negative  \n",
              "760  tested_negative  \n",
              "762  tested_negative  \n",
              "763  tested_negative  \n",
              "767  tested_negative  \n",
              "\n",
              "[496 rows x 10 columns]>"
            ]
          },
          "execution_count": 142,
          "metadata": {},
          "output_type": "execute_result"
        }
      ],
      "source": [
        "nega"
      ]
    },
    {
      "cell_type": "markdown",
      "metadata": {
        "id": "BHaXMWbjGRoZ"
      },
      "source": [
        "### สร้างฟังก์ชั่น (function) เพื่อ clean ชุดข้อมูลนี้ ดังต่อไปนี้\n",
        "3.1\tลบคอลัมน์ ‘unnamed:0’ \n",
        "\n",
        "3.2\tเติม missing value ด้วยค่าเฉลี่ย (mean) ในแต่ละคอลัมน์ประเภท numeric และเติมด้วย most frequent value สำหรับคอลัมน์ประเภท categorical \n",
        "\n",
        "3.3\tแทนค่าในคอลัมน์ class โดยแทน ‘tested_negative’ ด้วย 0 และ ‘tested_positive ด้วย 1    \n",
        "\n",
        "โดยส่งค่ากลับเป็น dataframe ที่ถูก clean แล้ว "
      ]
    },
    {
      "cell_type": "code",
      "execution_count": 143,
      "metadata": {
        "colab": {
          "base_uri": "https://localhost:8080/",
          "height": 424
        },
        "id": "5hzcJ8eB01St",
        "outputId": "d802ad1a-1f9f-4456-97e6-632b10671ab7"
      },
      "outputs": [
        {
          "data": {
            "text/html": [
              "<div>\n",
              "<style scoped>\n",
              "    .dataframe tbody tr th:only-of-type {\n",
              "        vertical-align: middle;\n",
              "    }\n",
              "\n",
              "    .dataframe tbody tr th {\n",
              "        vertical-align: top;\n",
              "    }\n",
              "\n",
              "    .dataframe thead th {\n",
              "        text-align: right;\n",
              "    }\n",
              "</style>\n",
              "<table border=\"1\" class=\"dataframe\">\n",
              "  <thead>\n",
              "    <tr style=\"text-align: right;\">\n",
              "      <th></th>\n",
              "      <th>preg</th>\n",
              "      <th>plas</th>\n",
              "      <th>pres</th>\n",
              "      <th>skin</th>\n",
              "      <th>insu</th>\n",
              "      <th>mass</th>\n",
              "      <th>pedi</th>\n",
              "      <th>age</th>\n",
              "      <th>class</th>\n",
              "    </tr>\n",
              "  </thead>\n",
              "  <tbody>\n",
              "    <tr>\n",
              "      <th>0</th>\n",
              "      <td>6.0</td>\n",
              "      <td>148.0</td>\n",
              "      <td>72.0</td>\n",
              "      <td>35.0</td>\n",
              "      <td>NaN</td>\n",
              "      <td>33.6</td>\n",
              "      <td>0.627</td>\n",
              "      <td>50</td>\n",
              "      <td>tested_positive</td>\n",
              "    </tr>\n",
              "    <tr>\n",
              "      <th>1</th>\n",
              "      <td>1.0</td>\n",
              "      <td>85.0</td>\n",
              "      <td>66.0</td>\n",
              "      <td>29.0</td>\n",
              "      <td>NaN</td>\n",
              "      <td>26.6</td>\n",
              "      <td>0.351</td>\n",
              "      <td>31</td>\n",
              "      <td>tested_negative</td>\n",
              "    </tr>\n",
              "    <tr>\n",
              "      <th>2</th>\n",
              "      <td>8.0</td>\n",
              "      <td>183.0</td>\n",
              "      <td>64.0</td>\n",
              "      <td>NaN</td>\n",
              "      <td>NaN</td>\n",
              "      <td>23.3</td>\n",
              "      <td>0.672</td>\n",
              "      <td>32</td>\n",
              "      <td>tested_positive</td>\n",
              "    </tr>\n",
              "    <tr>\n",
              "      <th>3</th>\n",
              "      <td>1.0</td>\n",
              "      <td>89.0</td>\n",
              "      <td>66.0</td>\n",
              "      <td>23.0</td>\n",
              "      <td>94.0</td>\n",
              "      <td>28.1</td>\n",
              "      <td>0.167</td>\n",
              "      <td>21</td>\n",
              "      <td>tested_negative</td>\n",
              "    </tr>\n",
              "    <tr>\n",
              "      <th>4</th>\n",
              "      <td>NaN</td>\n",
              "      <td>137.0</td>\n",
              "      <td>40.0</td>\n",
              "      <td>35.0</td>\n",
              "      <td>168.0</td>\n",
              "      <td>43.1</td>\n",
              "      <td>2.288</td>\n",
              "      <td>33</td>\n",
              "      <td>tested_positive</td>\n",
              "    </tr>\n",
              "    <tr>\n",
              "      <th>...</th>\n",
              "      <td>...</td>\n",
              "      <td>...</td>\n",
              "      <td>...</td>\n",
              "      <td>...</td>\n",
              "      <td>...</td>\n",
              "      <td>...</td>\n",
              "      <td>...</td>\n",
              "      <td>...</td>\n",
              "      <td>...</td>\n",
              "    </tr>\n",
              "    <tr>\n",
              "      <th>763</th>\n",
              "      <td>10.0</td>\n",
              "      <td>101.0</td>\n",
              "      <td>76.0</td>\n",
              "      <td>48.0</td>\n",
              "      <td>180.0</td>\n",
              "      <td>32.9</td>\n",
              "      <td>0.171</td>\n",
              "      <td>63</td>\n",
              "      <td>tested_negative</td>\n",
              "    </tr>\n",
              "    <tr>\n",
              "      <th>764</th>\n",
              "      <td>2.0</td>\n",
              "      <td>122.0</td>\n",
              "      <td>70.0</td>\n",
              "      <td>27.0</td>\n",
              "      <td>NaN</td>\n",
              "      <td>36.8</td>\n",
              "      <td>0.340</td>\n",
              "      <td>27</td>\n",
              "      <td>NaN</td>\n",
              "    </tr>\n",
              "    <tr>\n",
              "      <th>765</th>\n",
              "      <td>5.0</td>\n",
              "      <td>121.0</td>\n",
              "      <td>72.0</td>\n",
              "      <td>23.0</td>\n",
              "      <td>112.0</td>\n",
              "      <td>26.2</td>\n",
              "      <td>0.245</td>\n",
              "      <td>30</td>\n",
              "      <td>NaN</td>\n",
              "    </tr>\n",
              "    <tr>\n",
              "      <th>766</th>\n",
              "      <td>1.0</td>\n",
              "      <td>126.0</td>\n",
              "      <td>60.0</td>\n",
              "      <td>NaN</td>\n",
              "      <td>NaN</td>\n",
              "      <td>30.1</td>\n",
              "      <td>0.349</td>\n",
              "      <td>47</td>\n",
              "      <td>tested_positive</td>\n",
              "    </tr>\n",
              "    <tr>\n",
              "      <th>767</th>\n",
              "      <td>1.0</td>\n",
              "      <td>93.0</td>\n",
              "      <td>70.0</td>\n",
              "      <td>31.0</td>\n",
              "      <td>NaN</td>\n",
              "      <td>30.4</td>\n",
              "      <td>0.315</td>\n",
              "      <td>23</td>\n",
              "      <td>tested_negative</td>\n",
              "    </tr>\n",
              "  </tbody>\n",
              "</table>\n",
              "<p>768 rows × 9 columns</p>\n",
              "</div>"
            ],
            "text/plain": [
              "     preg   plas  pres  skin   insu  mass   pedi  age            class\n",
              "0     6.0  148.0  72.0  35.0    NaN  33.6  0.627   50  tested_positive\n",
              "1     1.0   85.0  66.0  29.0    NaN  26.6  0.351   31  tested_negative\n",
              "2     8.0  183.0  64.0   NaN    NaN  23.3  0.672   32  tested_positive\n",
              "3     1.0   89.0  66.0  23.0   94.0  28.1  0.167   21  tested_negative\n",
              "4     NaN  137.0  40.0  35.0  168.0  43.1  2.288   33  tested_positive\n",
              "..    ...    ...   ...   ...    ...   ...    ...  ...              ...\n",
              "763  10.0  101.0  76.0  48.0  180.0  32.9  0.171   63  tested_negative\n",
              "764   2.0  122.0  70.0  27.0    NaN  36.8  0.340   27              NaN\n",
              "765   5.0  121.0  72.0  23.0  112.0  26.2  0.245   30              NaN\n",
              "766   1.0  126.0  60.0   NaN    NaN  30.1  0.349   47  tested_positive\n",
              "767   1.0   93.0  70.0  31.0    NaN  30.4  0.315   23  tested_negative\n",
              "\n",
              "[768 rows x 9 columns]"
            ]
          },
          "execution_count": 143,
          "metadata": {},
          "output_type": "execute_result"
        }
      ],
      "source": [
        "## 3.1\n",
        "df = df.drop(columns = ['Unnamed: 0'])\n",
        "df"
      ]
    },
    {
      "cell_type": "code",
      "execution_count": 144,
      "metadata": {},
      "outputs": [
        {
          "data": {
            "text/html": [
              "<div>\n",
              "<style scoped>\n",
              "    .dataframe tbody tr th:only-of-type {\n",
              "        vertical-align: middle;\n",
              "    }\n",
              "\n",
              "    .dataframe tbody tr th {\n",
              "        vertical-align: top;\n",
              "    }\n",
              "\n",
              "    .dataframe thead th {\n",
              "        text-align: right;\n",
              "    }\n",
              "</style>\n",
              "<table border=\"1\" class=\"dataframe\">\n",
              "  <thead>\n",
              "    <tr style=\"text-align: right;\">\n",
              "      <th></th>\n",
              "      <th>preg</th>\n",
              "      <th>plas</th>\n",
              "      <th>pres</th>\n",
              "      <th>skin</th>\n",
              "      <th>insu</th>\n",
              "      <th>mass</th>\n",
              "      <th>pedi</th>\n",
              "      <th>age</th>\n",
              "      <th>class</th>\n",
              "    </tr>\n",
              "  </thead>\n",
              "  <tbody>\n",
              "    <tr>\n",
              "      <th>0</th>\n",
              "      <td>6.000000</td>\n",
              "      <td>148.0</td>\n",
              "      <td>72.0</td>\n",
              "      <td>35.00000</td>\n",
              "      <td>155.548223</td>\n",
              "      <td>33.6</td>\n",
              "      <td>0.627</td>\n",
              "      <td>50</td>\n",
              "      <td>tested_positive</td>\n",
              "    </tr>\n",
              "    <tr>\n",
              "      <th>1</th>\n",
              "      <td>1.000000</td>\n",
              "      <td>85.0</td>\n",
              "      <td>66.0</td>\n",
              "      <td>29.00000</td>\n",
              "      <td>155.548223</td>\n",
              "      <td>26.6</td>\n",
              "      <td>0.351</td>\n",
              "      <td>31</td>\n",
              "      <td>tested_negative</td>\n",
              "    </tr>\n",
              "    <tr>\n",
              "      <th>2</th>\n",
              "      <td>8.000000</td>\n",
              "      <td>183.0</td>\n",
              "      <td>64.0</td>\n",
              "      <td>29.15342</td>\n",
              "      <td>155.548223</td>\n",
              "      <td>23.3</td>\n",
              "      <td>0.672</td>\n",
              "      <td>32</td>\n",
              "      <td>tested_positive</td>\n",
              "    </tr>\n",
              "    <tr>\n",
              "      <th>3</th>\n",
              "      <td>1.000000</td>\n",
              "      <td>89.0</td>\n",
              "      <td>66.0</td>\n",
              "      <td>23.00000</td>\n",
              "      <td>94.000000</td>\n",
              "      <td>28.1</td>\n",
              "      <td>0.167</td>\n",
              "      <td>21</td>\n",
              "      <td>tested_negative</td>\n",
              "    </tr>\n",
              "    <tr>\n",
              "      <th>4</th>\n",
              "      <td>4.494673</td>\n",
              "      <td>137.0</td>\n",
              "      <td>40.0</td>\n",
              "      <td>35.00000</td>\n",
              "      <td>168.000000</td>\n",
              "      <td>43.1</td>\n",
              "      <td>2.288</td>\n",
              "      <td>33</td>\n",
              "      <td>tested_positive</td>\n",
              "    </tr>\n",
              "    <tr>\n",
              "      <th>...</th>\n",
              "      <td>...</td>\n",
              "      <td>...</td>\n",
              "      <td>...</td>\n",
              "      <td>...</td>\n",
              "      <td>...</td>\n",
              "      <td>...</td>\n",
              "      <td>...</td>\n",
              "      <td>...</td>\n",
              "      <td>...</td>\n",
              "    </tr>\n",
              "    <tr>\n",
              "      <th>763</th>\n",
              "      <td>10.000000</td>\n",
              "      <td>101.0</td>\n",
              "      <td>76.0</td>\n",
              "      <td>48.00000</td>\n",
              "      <td>180.000000</td>\n",
              "      <td>32.9</td>\n",
              "      <td>0.171</td>\n",
              "      <td>63</td>\n",
              "      <td>tested_negative</td>\n",
              "    </tr>\n",
              "    <tr>\n",
              "      <th>764</th>\n",
              "      <td>2.000000</td>\n",
              "      <td>122.0</td>\n",
              "      <td>70.0</td>\n",
              "      <td>27.00000</td>\n",
              "      <td>155.548223</td>\n",
              "      <td>36.8</td>\n",
              "      <td>0.340</td>\n",
              "      <td>27</td>\n",
              "      <td>NaN</td>\n",
              "    </tr>\n",
              "    <tr>\n",
              "      <th>765</th>\n",
              "      <td>5.000000</td>\n",
              "      <td>121.0</td>\n",
              "      <td>72.0</td>\n",
              "      <td>23.00000</td>\n",
              "      <td>112.000000</td>\n",
              "      <td>26.2</td>\n",
              "      <td>0.245</td>\n",
              "      <td>30</td>\n",
              "      <td>NaN</td>\n",
              "    </tr>\n",
              "    <tr>\n",
              "      <th>766</th>\n",
              "      <td>1.000000</td>\n",
              "      <td>126.0</td>\n",
              "      <td>60.0</td>\n",
              "      <td>29.15342</td>\n",
              "      <td>155.548223</td>\n",
              "      <td>30.1</td>\n",
              "      <td>0.349</td>\n",
              "      <td>47</td>\n",
              "      <td>tested_positive</td>\n",
              "    </tr>\n",
              "    <tr>\n",
              "      <th>767</th>\n",
              "      <td>1.000000</td>\n",
              "      <td>93.0</td>\n",
              "      <td>70.0</td>\n",
              "      <td>31.00000</td>\n",
              "      <td>155.548223</td>\n",
              "      <td>30.4</td>\n",
              "      <td>0.315</td>\n",
              "      <td>23</td>\n",
              "      <td>tested_negative</td>\n",
              "    </tr>\n",
              "  </tbody>\n",
              "</table>\n",
              "<p>768 rows × 9 columns</p>\n",
              "</div>"
            ],
            "text/plain": [
              "          preg   plas  pres      skin        insu  mass   pedi  age  \\\n",
              "0     6.000000  148.0  72.0  35.00000  155.548223  33.6  0.627   50   \n",
              "1     1.000000   85.0  66.0  29.00000  155.548223  26.6  0.351   31   \n",
              "2     8.000000  183.0  64.0  29.15342  155.548223  23.3  0.672   32   \n",
              "3     1.000000   89.0  66.0  23.00000   94.000000  28.1  0.167   21   \n",
              "4     4.494673  137.0  40.0  35.00000  168.000000  43.1  2.288   33   \n",
              "..         ...    ...   ...       ...         ...   ...    ...  ...   \n",
              "763  10.000000  101.0  76.0  48.00000  180.000000  32.9  0.171   63   \n",
              "764   2.000000  122.0  70.0  27.00000  155.548223  36.8  0.340   27   \n",
              "765   5.000000  121.0  72.0  23.00000  112.000000  26.2  0.245   30   \n",
              "766   1.000000  126.0  60.0  29.15342  155.548223  30.1  0.349   47   \n",
              "767   1.000000   93.0  70.0  31.00000  155.548223  30.4  0.315   23   \n",
              "\n",
              "               class  \n",
              "0    tested_positive  \n",
              "1    tested_negative  \n",
              "2    tested_positive  \n",
              "3    tested_negative  \n",
              "4    tested_positive  \n",
              "..               ...  \n",
              "763  tested_negative  \n",
              "764              NaN  \n",
              "765              NaN  \n",
              "766  tested_positive  \n",
              "767  tested_negative  \n",
              "\n",
              "[768 rows x 9 columns]"
            ]
          },
          "execution_count": 144,
          "metadata": {},
          "output_type": "execute_result"
        }
      ],
      "source": [
        "## 3.2\n",
        "df=df.fillna(df.mean(numeric_only=True))\n",
        "df"
      ]
    },
    {
      "cell_type": "code",
      "execution_count": 145,
      "metadata": {},
      "outputs": [
        {
          "name": "stderr",
          "output_type": "stream",
          "text": [
            "C:\\Users\\Mrkit\\AppData\\Local\\Temp\\ipykernel_16580\\2445558379.py:3: FutureWarning: Downcasting behavior in `replace` is deprecated and will be removed in a future version. To retain the old behavior, explicitly call `result.infer_objects(copy=False)`. To opt-in to the future behavior, set `pd.set_option('future.no_silent_downcasting', True)`\n",
            "  df['class'] = df['class'].replace({'tested_positive': 1, 'tested_negative': 0})\n"
          ]
        },
        {
          "data": {
            "text/html": [
              "<div>\n",
              "<style scoped>\n",
              "    .dataframe tbody tr th:only-of-type {\n",
              "        vertical-align: middle;\n",
              "    }\n",
              "\n",
              "    .dataframe tbody tr th {\n",
              "        vertical-align: top;\n",
              "    }\n",
              "\n",
              "    .dataframe thead th {\n",
              "        text-align: right;\n",
              "    }\n",
              "</style>\n",
              "<table border=\"1\" class=\"dataframe\">\n",
              "  <thead>\n",
              "    <tr style=\"text-align: right;\">\n",
              "      <th></th>\n",
              "      <th>preg</th>\n",
              "      <th>plas</th>\n",
              "      <th>pres</th>\n",
              "      <th>skin</th>\n",
              "      <th>insu</th>\n",
              "      <th>mass</th>\n",
              "      <th>pedi</th>\n",
              "      <th>age</th>\n",
              "      <th>class</th>\n",
              "    </tr>\n",
              "  </thead>\n",
              "  <tbody>\n",
              "    <tr>\n",
              "      <th>0</th>\n",
              "      <td>6.000000</td>\n",
              "      <td>148.0</td>\n",
              "      <td>72.0</td>\n",
              "      <td>35.00000</td>\n",
              "      <td>155.548223</td>\n",
              "      <td>33.6</td>\n",
              "      <td>0.627</td>\n",
              "      <td>50</td>\n",
              "      <td>1</td>\n",
              "    </tr>\n",
              "    <tr>\n",
              "      <th>1</th>\n",
              "      <td>1.000000</td>\n",
              "      <td>85.0</td>\n",
              "      <td>66.0</td>\n",
              "      <td>29.00000</td>\n",
              "      <td>155.548223</td>\n",
              "      <td>26.6</td>\n",
              "      <td>0.351</td>\n",
              "      <td>31</td>\n",
              "      <td>0</td>\n",
              "    </tr>\n",
              "    <tr>\n",
              "      <th>2</th>\n",
              "      <td>8.000000</td>\n",
              "      <td>183.0</td>\n",
              "      <td>64.0</td>\n",
              "      <td>29.15342</td>\n",
              "      <td>155.548223</td>\n",
              "      <td>23.3</td>\n",
              "      <td>0.672</td>\n",
              "      <td>32</td>\n",
              "      <td>1</td>\n",
              "    </tr>\n",
              "    <tr>\n",
              "      <th>3</th>\n",
              "      <td>1.000000</td>\n",
              "      <td>89.0</td>\n",
              "      <td>66.0</td>\n",
              "      <td>23.00000</td>\n",
              "      <td>94.000000</td>\n",
              "      <td>28.1</td>\n",
              "      <td>0.167</td>\n",
              "      <td>21</td>\n",
              "      <td>0</td>\n",
              "    </tr>\n",
              "    <tr>\n",
              "      <th>4</th>\n",
              "      <td>4.494673</td>\n",
              "      <td>137.0</td>\n",
              "      <td>40.0</td>\n",
              "      <td>35.00000</td>\n",
              "      <td>168.000000</td>\n",
              "      <td>43.1</td>\n",
              "      <td>2.288</td>\n",
              "      <td>33</td>\n",
              "      <td>1</td>\n",
              "    </tr>\n",
              "    <tr>\n",
              "      <th>...</th>\n",
              "      <td>...</td>\n",
              "      <td>...</td>\n",
              "      <td>...</td>\n",
              "      <td>...</td>\n",
              "      <td>...</td>\n",
              "      <td>...</td>\n",
              "      <td>...</td>\n",
              "      <td>...</td>\n",
              "      <td>...</td>\n",
              "    </tr>\n",
              "    <tr>\n",
              "      <th>763</th>\n",
              "      <td>10.000000</td>\n",
              "      <td>101.0</td>\n",
              "      <td>76.0</td>\n",
              "      <td>48.00000</td>\n",
              "      <td>180.000000</td>\n",
              "      <td>32.9</td>\n",
              "      <td>0.171</td>\n",
              "      <td>63</td>\n",
              "      <td>0</td>\n",
              "    </tr>\n",
              "    <tr>\n",
              "      <th>764</th>\n",
              "      <td>2.000000</td>\n",
              "      <td>122.0</td>\n",
              "      <td>70.0</td>\n",
              "      <td>27.00000</td>\n",
              "      <td>155.548223</td>\n",
              "      <td>36.8</td>\n",
              "      <td>0.340</td>\n",
              "      <td>27</td>\n",
              "      <td>0</td>\n",
              "    </tr>\n",
              "    <tr>\n",
              "      <th>765</th>\n",
              "      <td>5.000000</td>\n",
              "      <td>121.0</td>\n",
              "      <td>72.0</td>\n",
              "      <td>23.00000</td>\n",
              "      <td>112.000000</td>\n",
              "      <td>26.2</td>\n",
              "      <td>0.245</td>\n",
              "      <td>30</td>\n",
              "      <td>0</td>\n",
              "    </tr>\n",
              "    <tr>\n",
              "      <th>766</th>\n",
              "      <td>1.000000</td>\n",
              "      <td>126.0</td>\n",
              "      <td>60.0</td>\n",
              "      <td>29.15342</td>\n",
              "      <td>155.548223</td>\n",
              "      <td>30.1</td>\n",
              "      <td>0.349</td>\n",
              "      <td>47</td>\n",
              "      <td>1</td>\n",
              "    </tr>\n",
              "    <tr>\n",
              "      <th>767</th>\n",
              "      <td>1.000000</td>\n",
              "      <td>93.0</td>\n",
              "      <td>70.0</td>\n",
              "      <td>31.00000</td>\n",
              "      <td>155.548223</td>\n",
              "      <td>30.4</td>\n",
              "      <td>0.315</td>\n",
              "      <td>23</td>\n",
              "      <td>0</td>\n",
              "    </tr>\n",
              "  </tbody>\n",
              "</table>\n",
              "<p>768 rows × 9 columns</p>\n",
              "</div>"
            ],
            "text/plain": [
              "          preg   plas  pres      skin        insu  mass   pedi  age  class\n",
              "0     6.000000  148.0  72.0  35.00000  155.548223  33.6  0.627   50      1\n",
              "1     1.000000   85.0  66.0  29.00000  155.548223  26.6  0.351   31      0\n",
              "2     8.000000  183.0  64.0  29.15342  155.548223  23.3  0.672   32      1\n",
              "3     1.000000   89.0  66.0  23.00000   94.000000  28.1  0.167   21      0\n",
              "4     4.494673  137.0  40.0  35.00000  168.000000  43.1  2.288   33      1\n",
              "..         ...    ...   ...       ...         ...   ...    ...  ...    ...\n",
              "763  10.000000  101.0  76.0  48.00000  180.000000  32.9  0.171   63      0\n",
              "764   2.000000  122.0  70.0  27.00000  155.548223  36.8  0.340   27      0\n",
              "765   5.000000  121.0  72.0  23.00000  112.000000  26.2  0.245   30      0\n",
              "766   1.000000  126.0  60.0  29.15342  155.548223  30.1  0.349   47      1\n",
              "767   1.000000   93.0  70.0  31.00000  155.548223  30.4  0.315   23      0\n",
              "\n",
              "[768 rows x 9 columns]"
            ]
          },
          "execution_count": 145,
          "metadata": {},
          "output_type": "execute_result"
        }
      ],
      "source": [
        "## 3.3\n",
        "df = df.fillna(df.select_dtypes(include='object').mode().iloc[0])\n",
        "df['class'] = df['class'].replace({'tested_positive': 1, 'tested_negative': 0})\n",
        "df"
      ]
    },
    {
      "cell_type": "markdown",
      "metadata": {
        "id": "ILBtppQYkXgr"
      },
      "source": [
        "## Feature Selection\n",
        "สร้างฟังก์ชั่นเพื่อเลือก features ที่มีค่า correlation กับ class สูงสุด 4 อันดับแรก พร้อมนำมาสร้าง dataframe ใหม่ ตั้งชื่อ newdf  โดย feature ที่ถูกเลือกคือ "
      ]
    },
    {
      "cell_type": "code",
      "execution_count": 146,
      "metadata": {},
      "outputs": [
        {
          "data": {
            "text/html": [
              "<div>\n",
              "<style scoped>\n",
              "    .dataframe tbody tr th:only-of-type {\n",
              "        vertical-align: middle;\n",
              "    }\n",
              "\n",
              "    .dataframe tbody tr th {\n",
              "        vertical-align: top;\n",
              "    }\n",
              "\n",
              "    .dataframe thead th {\n",
              "        text-align: right;\n",
              "    }\n",
              "</style>\n",
              "<table border=\"1\" class=\"dataframe\">\n",
              "  <thead>\n",
              "    <tr style=\"text-align: right;\">\n",
              "      <th></th>\n",
              "      <th>preg</th>\n",
              "      <th>plas</th>\n",
              "      <th>pres</th>\n",
              "      <th>skin</th>\n",
              "      <th>insu</th>\n",
              "      <th>mass</th>\n",
              "      <th>pedi</th>\n",
              "      <th>age</th>\n",
              "      <th>class</th>\n",
              "    </tr>\n",
              "  </thead>\n",
              "  <tbody>\n",
              "    <tr>\n",
              "      <th>0</th>\n",
              "      <td>6.000000</td>\n",
              "      <td>148.0</td>\n",
              "      <td>72.0</td>\n",
              "      <td>35.00000</td>\n",
              "      <td>155.548223</td>\n",
              "      <td>33.6</td>\n",
              "      <td>0.627</td>\n",
              "      <td>50</td>\n",
              "      <td>1</td>\n",
              "    </tr>\n",
              "    <tr>\n",
              "      <th>1</th>\n",
              "      <td>1.000000</td>\n",
              "      <td>85.0</td>\n",
              "      <td>66.0</td>\n",
              "      <td>29.00000</td>\n",
              "      <td>155.548223</td>\n",
              "      <td>26.6</td>\n",
              "      <td>0.351</td>\n",
              "      <td>31</td>\n",
              "      <td>0</td>\n",
              "    </tr>\n",
              "    <tr>\n",
              "      <th>2</th>\n",
              "      <td>8.000000</td>\n",
              "      <td>183.0</td>\n",
              "      <td>64.0</td>\n",
              "      <td>29.15342</td>\n",
              "      <td>155.548223</td>\n",
              "      <td>23.3</td>\n",
              "      <td>0.672</td>\n",
              "      <td>32</td>\n",
              "      <td>1</td>\n",
              "    </tr>\n",
              "    <tr>\n",
              "      <th>3</th>\n",
              "      <td>1.000000</td>\n",
              "      <td>89.0</td>\n",
              "      <td>66.0</td>\n",
              "      <td>23.00000</td>\n",
              "      <td>94.000000</td>\n",
              "      <td>28.1</td>\n",
              "      <td>0.167</td>\n",
              "      <td>21</td>\n",
              "      <td>0</td>\n",
              "    </tr>\n",
              "    <tr>\n",
              "      <th>4</th>\n",
              "      <td>4.494673</td>\n",
              "      <td>137.0</td>\n",
              "      <td>40.0</td>\n",
              "      <td>35.00000</td>\n",
              "      <td>168.000000</td>\n",
              "      <td>43.1</td>\n",
              "      <td>2.288</td>\n",
              "      <td>33</td>\n",
              "      <td>1</td>\n",
              "    </tr>\n",
              "    <tr>\n",
              "      <th>...</th>\n",
              "      <td>...</td>\n",
              "      <td>...</td>\n",
              "      <td>...</td>\n",
              "      <td>...</td>\n",
              "      <td>...</td>\n",
              "      <td>...</td>\n",
              "      <td>...</td>\n",
              "      <td>...</td>\n",
              "      <td>...</td>\n",
              "    </tr>\n",
              "    <tr>\n",
              "      <th>763</th>\n",
              "      <td>10.000000</td>\n",
              "      <td>101.0</td>\n",
              "      <td>76.0</td>\n",
              "      <td>48.00000</td>\n",
              "      <td>180.000000</td>\n",
              "      <td>32.9</td>\n",
              "      <td>0.171</td>\n",
              "      <td>63</td>\n",
              "      <td>0</td>\n",
              "    </tr>\n",
              "    <tr>\n",
              "      <th>764</th>\n",
              "      <td>2.000000</td>\n",
              "      <td>122.0</td>\n",
              "      <td>70.0</td>\n",
              "      <td>27.00000</td>\n",
              "      <td>155.548223</td>\n",
              "      <td>36.8</td>\n",
              "      <td>0.340</td>\n",
              "      <td>27</td>\n",
              "      <td>0</td>\n",
              "    </tr>\n",
              "    <tr>\n",
              "      <th>765</th>\n",
              "      <td>5.000000</td>\n",
              "      <td>121.0</td>\n",
              "      <td>72.0</td>\n",
              "      <td>23.00000</td>\n",
              "      <td>112.000000</td>\n",
              "      <td>26.2</td>\n",
              "      <td>0.245</td>\n",
              "      <td>30</td>\n",
              "      <td>0</td>\n",
              "    </tr>\n",
              "    <tr>\n",
              "      <th>766</th>\n",
              "      <td>1.000000</td>\n",
              "      <td>126.0</td>\n",
              "      <td>60.0</td>\n",
              "      <td>29.15342</td>\n",
              "      <td>155.548223</td>\n",
              "      <td>30.1</td>\n",
              "      <td>0.349</td>\n",
              "      <td>47</td>\n",
              "      <td>1</td>\n",
              "    </tr>\n",
              "    <tr>\n",
              "      <th>767</th>\n",
              "      <td>1.000000</td>\n",
              "      <td>93.0</td>\n",
              "      <td>70.0</td>\n",
              "      <td>31.00000</td>\n",
              "      <td>155.548223</td>\n",
              "      <td>30.4</td>\n",
              "      <td>0.315</td>\n",
              "      <td>23</td>\n",
              "      <td>0</td>\n",
              "    </tr>\n",
              "  </tbody>\n",
              "</table>\n",
              "<p>768 rows × 9 columns</p>\n",
              "</div>"
            ],
            "text/plain": [
              "          preg   plas  pres      skin        insu  mass   pedi  age  class\n",
              "0     6.000000  148.0  72.0  35.00000  155.548223  33.6  0.627   50      1\n",
              "1     1.000000   85.0  66.0  29.00000  155.548223  26.6  0.351   31      0\n",
              "2     8.000000  183.0  64.0  29.15342  155.548223  23.3  0.672   32      1\n",
              "3     1.000000   89.0  66.0  23.00000   94.000000  28.1  0.167   21      0\n",
              "4     4.494673  137.0  40.0  35.00000  168.000000  43.1  2.288   33      1\n",
              "..         ...    ...   ...       ...         ...   ...    ...  ...    ...\n",
              "763  10.000000  101.0  76.0  48.00000  180.000000  32.9  0.171   63      0\n",
              "764   2.000000  122.0  70.0  27.00000  155.548223  36.8  0.340   27      0\n",
              "765   5.000000  121.0  72.0  23.00000  112.000000  26.2  0.245   30      0\n",
              "766   1.000000  126.0  60.0  29.15342  155.548223  30.1  0.349   47      1\n",
              "767   1.000000   93.0  70.0  31.00000  155.548223  30.4  0.315   23      0\n",
              "\n",
              "[768 rows x 9 columns]"
            ]
          },
          "execution_count": 146,
          "metadata": {},
          "output_type": "execute_result"
        }
      ],
      "source": [
        "df"
      ]
    },
    {
      "cell_type": "code",
      "execution_count": 147,
      "metadata": {
        "colab": {
          "base_uri": "https://localhost:8080/",
          "height": 528
        },
        "id": "q8jOOF7PkW1a",
        "outputId": "d71e1085-01e1-4fd6-9308-066ab06f9a54"
      },
      "outputs": [
        {
          "data": {
            "text/plain": [
              "class    1.000000\n",
              "plas     0.491766\n",
              "mass     0.299674\n",
              "preg     0.248666\n",
              "age      0.241524\n",
              "Name: class, dtype: float64"
            ]
          },
          "execution_count": 147,
          "metadata": {},
          "output_type": "execute_result"
        }
      ],
      "source": [
        "cor=df.corr()['class'].sort_values(ascending=False)\n",
        "a=cor[0:5]\n",
        "a"
      ]
    },
    {
      "cell_type": "code",
      "execution_count": 148,
      "metadata": {},
      "outputs": [
        {
          "data": {
            "text/html": [
              "<div>\n",
              "<style scoped>\n",
              "    .dataframe tbody tr th:only-of-type {\n",
              "        vertical-align: middle;\n",
              "    }\n",
              "\n",
              "    .dataframe tbody tr th {\n",
              "        vertical-align: top;\n",
              "    }\n",
              "\n",
              "    .dataframe thead th {\n",
              "        text-align: right;\n",
              "    }\n",
              "</style>\n",
              "<table border=\"1\" class=\"dataframe\">\n",
              "  <thead>\n",
              "    <tr style=\"text-align: right;\">\n",
              "      <th></th>\n",
              "      <th>preg</th>\n",
              "      <th>plas</th>\n",
              "      <th>mass</th>\n",
              "      <th>age</th>\n",
              "      <th>class</th>\n",
              "    </tr>\n",
              "  </thead>\n",
              "  <tbody>\n",
              "    <tr>\n",
              "      <th>0</th>\n",
              "      <td>6.000000</td>\n",
              "      <td>148.0</td>\n",
              "      <td>33.6</td>\n",
              "      <td>50</td>\n",
              "      <td>1</td>\n",
              "    </tr>\n",
              "    <tr>\n",
              "      <th>1</th>\n",
              "      <td>1.000000</td>\n",
              "      <td>85.0</td>\n",
              "      <td>26.6</td>\n",
              "      <td>31</td>\n",
              "      <td>0</td>\n",
              "    </tr>\n",
              "    <tr>\n",
              "      <th>2</th>\n",
              "      <td>8.000000</td>\n",
              "      <td>183.0</td>\n",
              "      <td>23.3</td>\n",
              "      <td>32</td>\n",
              "      <td>1</td>\n",
              "    </tr>\n",
              "    <tr>\n",
              "      <th>3</th>\n",
              "      <td>1.000000</td>\n",
              "      <td>89.0</td>\n",
              "      <td>28.1</td>\n",
              "      <td>21</td>\n",
              "      <td>0</td>\n",
              "    </tr>\n",
              "    <tr>\n",
              "      <th>4</th>\n",
              "      <td>4.494673</td>\n",
              "      <td>137.0</td>\n",
              "      <td>43.1</td>\n",
              "      <td>33</td>\n",
              "      <td>1</td>\n",
              "    </tr>\n",
              "    <tr>\n",
              "      <th>...</th>\n",
              "      <td>...</td>\n",
              "      <td>...</td>\n",
              "      <td>...</td>\n",
              "      <td>...</td>\n",
              "      <td>...</td>\n",
              "    </tr>\n",
              "    <tr>\n",
              "      <th>763</th>\n",
              "      <td>10.000000</td>\n",
              "      <td>101.0</td>\n",
              "      <td>32.9</td>\n",
              "      <td>63</td>\n",
              "      <td>0</td>\n",
              "    </tr>\n",
              "    <tr>\n",
              "      <th>764</th>\n",
              "      <td>2.000000</td>\n",
              "      <td>122.0</td>\n",
              "      <td>36.8</td>\n",
              "      <td>27</td>\n",
              "      <td>0</td>\n",
              "    </tr>\n",
              "    <tr>\n",
              "      <th>765</th>\n",
              "      <td>5.000000</td>\n",
              "      <td>121.0</td>\n",
              "      <td>26.2</td>\n",
              "      <td>30</td>\n",
              "      <td>0</td>\n",
              "    </tr>\n",
              "    <tr>\n",
              "      <th>766</th>\n",
              "      <td>1.000000</td>\n",
              "      <td>126.0</td>\n",
              "      <td>30.1</td>\n",
              "      <td>47</td>\n",
              "      <td>1</td>\n",
              "    </tr>\n",
              "    <tr>\n",
              "      <th>767</th>\n",
              "      <td>1.000000</td>\n",
              "      <td>93.0</td>\n",
              "      <td>30.4</td>\n",
              "      <td>23</td>\n",
              "      <td>0</td>\n",
              "    </tr>\n",
              "  </tbody>\n",
              "</table>\n",
              "<p>768 rows × 5 columns</p>\n",
              "</div>"
            ],
            "text/plain": [
              "          preg   plas  mass  age  class\n",
              "0     6.000000  148.0  33.6   50      1\n",
              "1     1.000000   85.0  26.6   31      0\n",
              "2     8.000000  183.0  23.3   32      1\n",
              "3     1.000000   89.0  28.1   21      0\n",
              "4     4.494673  137.0  43.1   33      1\n",
              "..         ...    ...   ...  ...    ...\n",
              "763  10.000000  101.0  32.9   63      0\n",
              "764   2.000000  122.0  36.8   27      0\n",
              "765   5.000000  121.0  26.2   30      0\n",
              "766   1.000000  126.0  30.1   47      1\n",
              "767   1.000000   93.0  30.4   23      0\n",
              "\n",
              "[768 rows x 5 columns]"
            ]
          },
          "execution_count": 148,
          "metadata": {},
          "output_type": "execute_result"
        }
      ],
      "source": [
        "newdf=df.drop(columns=['pres','skin','insu','pedi'])\n",
        "newdf"
      ]
    },
    {
      "cell_type": "markdown",
      "metadata": {
        "id": "aYkJEyz7ZAp4"
      },
      "source": [
        "จากผลลัพธ์ dataframe  ในข้อที่ 4 แบ่งข้อมูลสำหรับฝึกฝน (training data) ออกเป็น 70% และข้อมูลสำหรับทดสอบ (test data) 30% ให้แสดงรูปร่างมิติของข้อมูลฝึกฝน …………..…. และข้อมูลทดสอบ ………….… "
      ]
    },
    {
      "cell_type": "code",
      "execution_count": 149,
      "metadata": {},
      "outputs": [
        {
          "data": {
            "text/plain": [
              "(768, 5)"
            ]
          },
          "execution_count": 149,
          "metadata": {},
          "output_type": "execute_result"
        }
      ],
      "source": [
        "newdf.shape"
      ]
    },
    {
      "cell_type": "code",
      "execution_count": 150,
      "metadata": {
        "colab": {
          "base_uri": "https://localhost:8080/"
        },
        "id": "bNhGHwnorz-Y",
        "outputId": "c22bb997-4e99-4ac1-b4ae-c4e8e71381ad"
      },
      "outputs": [
        {
          "name": "stdout",
          "output_type": "stream",
          "text": [
            "(537, 4) (231, 4)\n"
          ]
        }
      ],
      "source": [
        "from sklearn.model_selection import train_test_split\n",
        "x=newdf.drop(columns=['class'])\n",
        "y=newdf['class']\n",
        "X_train, X_test ,Y_train, Y_test= train_test_split(x,y, test_size=0.3, random_state=42)\n",
        "print(X_train.shape, X_test.shape)"
      ]
    },
    {
      "cell_type": "markdown",
      "metadata": {
        "id": "MVdZUZXB-QeS"
      },
      "source": [
        "สร้างโมเดล K-NN โดยกำหนดให้ k = 5 จากนั้นแสดงความแม่นยำบนชุดข้อมูลทดสอบ "
      ]
    },
    {
      "cell_type": "code",
      "execution_count": 151,
      "metadata": {
        "colab": {
          "base_uri": "https://localhost:8080/"
        },
        "id": "g4fchmOF-YrD",
        "outputId": "52dd5c17-b298-4d8d-a546-c5768107bfe9"
      },
      "outputs": [
        {
          "name": "stdout",
          "output_type": "stream",
          "text": [
            "0.7489177489177489\n"
          ]
        }
      ],
      "source": [
        "from sklearn.neighbors import KNeighborsClassifier\n",
        "knn = KNeighborsClassifier(n_neighbors=5)\n",
        "knn.fit(X_train, Y_train)\n",
        "\n",
        "from sklearn.metrics import accuracy_score\n",
        "acc = accuracy_score(Y_test, knn.predict(X_test))\n",
        "print(acc)\n"
      ]
    },
    {
      "cell_type": "markdown",
      "metadata": {
        "id": "jrTpvwz-ZS3e"
      },
      "source": [
        "ทำนาย label ของข้อมูลแถวที่ 3 บนชุดข้อมูลทดสอบ ลาเบลที่โมเดลทำนาย "
      ]
    },
    {
      "cell_type": "code",
      "execution_count": 152,
      "metadata": {
        "colab": {
          "base_uri": "https://localhost:8080/",
          "height": 211
        },
        "id": "w1H0ZXOdWi3p",
        "outputId": "f70e1b54-7f29-414a-f355-2b6a09e1bbd0"
      },
      "outputs": [
        {
          "name": "stdout",
          "output_type": "stream",
          "text": [
            "the feature vector of the 2nd sample :  preg      2.0\n",
            "plas    108.0\n",
            "mass     30.8\n",
            "age      21.0\n",
            "Name: 624, dtype: float64\n"
          ]
        }
      ],
      "source": [
        "test_data = X_test.iloc[2]                           ## pick up the 3rd sample in X_test\n",
        "print('the feature vector of the 2nd sample : ', test_data)"
      ]
    },
    {
      "cell_type": "code",
      "execution_count": 153,
      "metadata": {},
      "outputs": [
        {
          "name": "stdout",
          "output_type": "stream",
          "text": [
            "the feature vector of the 2nd sample :  [0]\n"
          ]
        },
        {
          "name": "stderr",
          "output_type": "stream",
          "text": [
            "C:\\Users\\Mrkit\\AppData\\Roaming\\Python\\Python313\\site-packages\\sklearn\\utils\\validation.py:2749: UserWarning: X does not have valid feature names, but KNeighborsClassifier was fitted with feature names\n",
            "  warnings.warn(\n"
          ]
        }
      ],
      "source": [
        "label=knn.predict([test_data])\n",
        "print('the feature vector of the 2nd sample : ', label)"
      ]
    },
    {
      "cell_type": "markdown",
      "metadata": {},
      "source": [
        "### แสดงรายการของ training sample 5 อันดับแรก ที่อยู่ใกล้กับข้อมูลทดสอบแถวที่ 3"
      ]
    },
    {
      "cell_type": "code",
      "execution_count": 154,
      "metadata": {},
      "outputs": [
        {
          "name": "stdout",
          "output_type": "stream",
          "text": [
            "[[1.97230829 2.87054002 2.87923601 3.31662479 3.58329457]]\n",
            "[[173 336 284  44 341]]\n"
          ]
        },
        {
          "name": "stderr",
          "output_type": "stream",
          "text": [
            "C:\\Users\\Mrkit\\AppData\\Roaming\\Python\\Python313\\site-packages\\sklearn\\utils\\validation.py:2749: UserWarning: X does not have valid feature names, but KNeighborsClassifier was fitted with feature names\n",
            "  warnings.warn(\n"
          ]
        }
      ],
      "source": [
        "dis, ind = knn.kneighbors([test_data],n_neighbors=5)\n",
        "print(dis)\n",
        "print(ind)"
      ]
    },
    {
      "cell_type": "markdown",
      "metadata": {
        "id": "bDlcHoira4E8"
      },
      "source": [
        "ใช้ GridSeaerchCV เพื่อหาค่า k ที่เหมาะสม โดยเริ่มจาก k = 1 ถึง 20 บนชุดข้อมูลฝึกฝน "
      ]
    },
    {
      "cell_type": "code",
      "execution_count": 155,
      "metadata": {
        "colab": {
          "base_uri": "https://localhost:8080/"
        },
        "id": "GVIIkKQbnrAD",
        "outputId": "01d94d63-8a2d-425e-cba3-2e7d52015aca"
      },
      "outputs": [
        {
          "data": {
            "text/plain": [
              "{'n_neighbors': 20}"
            ]
          },
          "execution_count": 155,
          "metadata": {},
          "output_type": "execute_result"
        }
      ],
      "source": [
        "from sklearn.model_selection import GridSearchCV       ## search best parameters\n",
        "from sklearn.neighbors import KNeighborsClassifier\n",
        "\n",
        "parameters = {'n_neighbors':[1, 20]}\n",
        "clf = GridSearchCV(knn, parameters)\n",
        "clf.fit(X_train, Y_train)\n",
        "clf.best_params_\n"
      ]
    },
    {
      "cell_type": "markdown",
      "metadata": {
        "id": "Tn9xAFjpn7QH"
      },
      "source": [
        "แสดงความแม่นยำของโมเดลที่ใช้ค่า k ที่ได้รับจากข้อ 9  "
      ]
    },
    {
      "cell_type": "code",
      "execution_count": 156,
      "metadata": {
        "colab": {
          "base_uri": "https://localhost:8080/"
        },
        "id": "zUPxgH-_ouBO",
        "outputId": "b0f83c33-ed24-4381-d1b7-43d3dff09729"
      },
      "outputs": [
        {
          "data": {
            "text/plain": [
              "np.float64(0.7652994115610937)"
            ]
          },
          "execution_count": 156,
          "metadata": {},
          "output_type": "execute_result"
        }
      ],
      "source": [
        "clf.best_score_"
      ]
    },
    {
      "cell_type": "markdown",
      "metadata": {
        "id": "utes4qCkodc3"
      },
      "source": [
        "บันทึกโมเดลข้อ 9 ในรูปของไฟล์ pickle ตั้งชื่อ 'knn_best_model.pkl'"
      ]
    },
    {
      "cell_type": "code",
      "execution_count": 157,
      "metadata": {
        "id": "D_QEBE7jF_yV"
      },
      "outputs": [],
      "source": [
        "import pickle\n",
        "pickle.dump(clf,open(\"knn_best_model.sav\",'wb'))"
      ]
    },
    {
      "cell_type": "markdown",
      "metadata": {
        "id": "YeRTS1A2pZbd"
      },
      "source": [
        "## Face Recognition task\n",
        "The dataset contains 40 faces of 400 images.\n",
        "![](https://www.kaggleusercontent.com/kf/19627012/eyJhbGciOiJkaXIiLCJlbmMiOiJBMTI4Q0JDLUhTMjU2In0..4tPGNC3rrKy07hfHGaZtfQ.bGAzPNw0GEcTvpdvP1IFukNwRp0_Av0GH0lyg6j6uQ63Im4K8V_LaIoStrJ8HXJaiQ3pTK6F62VSl7VlWlE-WlhFHeFt3xa8E-XkZiPbv2vPM6PI-zUHf_vutJuuhDlXviXUAhguSuGTOEwfGC3uF9wiHFLS0UEJaRElFMesKBRptAEuQYFWSmh1lDpDYbJR9oHseND76mzDwweEdO2LxeKsC9I1lwMPt8Sspc4wcnXPOcXRGB0LmBU-9fPLeiQU7uNJYt0vYE_AeCvqEEIO_wXwnsz9qItgLvHKBzkoryxROegu-yQrL7iFrIKxjcAqEtRFaS_lQdY_rC9N9eG_nmwKqa1AGOMgVpvlQJu8EOA14TSXAqrsgpm-oJ3O1FhAvlYlMMvos7Jv3M0fnWTKSyMctTA5MvKmkpjKkonZMCCg-Q7vanMzRWzl2JlJBBK4exQ0X6z70hyPTxRBTj7KksCoq2vOpaFYMTSCIDjlbMN8q1vZFwMQMlfBAX9zN5vHCg-dhG5IQqTUFfblVIbfHvMsyYiA_zCdbvt01CSIpdKGT8zxPjKanFEzpURu2BTv9mDCMZ3ovmWTuSFFAB7dCBaoD_51AzTkdvCVvCYaopq7EGyU2kPGIDrxpi9rgvVkcx96xnjZPEO4CcS85QR8CCOO7NnMcadSRYHdJ6PpZ_4.H1ikrTdZcLZR3-LZQwYpzw/__results___files/__results___12_0.png)"
      ]
    },
    {
      "cell_type": "code",
      "execution_count": 158,
      "metadata": {
        "colab": {
          "base_uri": "https://localhost:8080/"
        },
        "id": "NLomKMB5iMSG",
        "outputId": "4a1b0023-bc82-4444-d115-3d699f043d39"
      },
      "outputs": [
        {
          "name": "stdout",
          "output_type": "stream",
          "text": [
            "(400, 64, 64) (400,)\n"
          ]
        }
      ],
      "source": [
        "from sklearn.datasets import fetch_olivetti_faces\n",
        "\n",
        "faces = fetch_olivetti_faces()\n",
        "X = faces.images\n",
        "Y = faces.target\n",
        "print(X.shape, Y.shape)\n"
      ]
    },
    {
      "cell_type": "code",
      "execution_count": 159,
      "metadata": {
        "colab": {
          "base_uri": "https://localhost:8080/",
          "height": 432
        },
        "id": "xrPQukQTiU9Z",
        "outputId": "183a4398-8675-41bf-cdb5-f910486ed882"
      },
      "outputs": [
        {
          "data": {
            "image/png": "[encoded data removed]",
            "text/plain": [
              "<Figure size 640x480 with 1 Axes>"
            ]
          },
          "metadata": {},
          "output_type": "display_data"
        }
      ],
      "source": [
        "import matplotlib.pyplot as plt     \n",
        "plt.imshow(X[0], cmap='gray')              ### pick up the first face sample \n",
        "plt.show()"
      ]
    },
    {
      "cell_type": "markdown",
      "metadata": {
        "id": "1oT59azBq8DX"
      },
      "source": [
        "### แบ่งชุดข้อมูลนี้ออกเป็น 80% สำหรับข้อมูลฝึกฝน และ 20% สำหรับข้อมูลทดสอบ "
      ]
    },
    {
      "cell_type": "code",
      "execution_count": 160,
      "metadata": {
        "colab": {
          "base_uri": "https://localhost:8080/"
        },
        "id": "Uv9xsMHEi6qP",
        "outputId": "33d3d0e1-7cc8-4c97-805e-7fdc711840cd"
      },
      "outputs": [
        {
          "data": {
            "text/plain": [
              "((320, 64, 64), (80, 64, 64))"
            ]
          },
          "execution_count": 160,
          "metadata": {},
          "output_type": "execute_result"
        }
      ],
      "source": [
        "from sklearn.model_selection import train_test_split\n",
        "xTrain, xTest ,yTrain, yTest= train_test_split(X,Y, test_size=0.2, random_state=42)\n",
        "\n",
        "xTrain.shape, xTest.shape"
      ]
    },
    {
      "cell_type": "code",
      "execution_count": 161,
      "metadata": {},
      "outputs": [],
      "source": [
        "arrTrain = []\n",
        "arrTest = []\n",
        "for i in range(320):\n",
        "    temp=[]\n",
        "    for j in range(64):\n",
        "        for k in range(64):\n",
        "            temp.append(xTrain[i][j][k])\n",
        "    arrTrain.append(temp)\n",
        "    \n",
        "for i in range(80):\n",
        "    temp=[]\n",
        "    for j in range(64):\n",
        "        for k in range(64):\n",
        "            temp.append(xTest[i][j][k])\n",
        "    arrTest.append(temp)"
      ]
    },
    {
      "cell_type": "markdown",
      "metadata": {
        "id": "GTItLsHlrIEC"
      },
      "source": [
        "สร้างโมเดล ชื่อ ‘model1’ โดยวิธี centroid พร้อมแสดงความแม่นยำบนชุดข้อมูลทดสอบ "
      ]
    },
    {
      "cell_type": "code",
      "execution_count": 162,
      "metadata": {
        "colab": {
          "base_uri": "https://localhost:8080/",
          "height": 75
        },
        "id": "KUofp9Q5rVgv",
        "outputId": "ed18a6fa-926c-4bc5-c3b4-0c6c787237ae"
      },
      "outputs": [
        {
          "data": {
            "text/plain": [
              "0.9"
            ]
          },
          "execution_count": 162,
          "metadata": {},
          "output_type": "execute_result"
        }
      ],
      "source": [
        "from sklearn.neighbors import NearestCentroid\n",
        "model1 = NearestCentroid()\n",
        "model1.fit(arrTrain, yTrain)\n",
        "acc = accuracy_score(yTest, model1.predict(arrTest))\n",
        "acc"
      ]
    },
    {
      "cell_type": "markdown",
      "metadata": {
        "id": "QLghssi3rfu3"
      },
      "source": [
        "บันทึกโมเดลในข้อ 14 ในรูปของไฟล์ pickle ตั้งชื่อ face_centroid.pkl "
      ]
    },
    {
      "cell_type": "code",
      "execution_count": 163,
      "metadata": {
        "id": "QQIHheaBrnt6"
      },
      "outputs": [],
      "source": [
        "pickle.dump(clf,open(\"face_centroid.pkl\",'wb'))"
      ]
    },
    {
      "cell_type": "markdown",
      "metadata": {
        "id": "JD5UdMgRroSW"
      },
      "source": [
        "สร้างโมเดล ชื่อ ‘model2’ โดยวิธี 1-NN พร้อมเปรียบเทียบผลลัพธ์บนชุดข้อมูลทดสอบกับโมเดล centroid  โดย"
      ]
    },
    {
      "cell_type": "code",
      "execution_count": 164,
      "metadata": {
        "colab": {
          "base_uri": "https://localhost:8080/"
        },
        "id": "3NMt1yWmr3c6",
        "outputId": "402a0d82-e87d-40fd-a380-c9ce9dc62c33"
      },
      "outputs": [
        {
          "data": {
            "text/plain": [
              "0.9125"
            ]
          },
          "execution_count": 164,
          "metadata": {},
          "output_type": "execute_result"
        }
      ],
      "source": [
        "model2 = KNeighborsClassifier(n_neighbors=1)\n",
        "model2.fit(arrTrain, yTrain)\n",
        "acc2 = accuracy_score(yTest, model2.predict(arrTest))\n",
        "acc2\n"
      ]
    },
    {
      "cell_type": "code",
      "execution_count": null,
      "metadata": {},
      "outputs": [
        {
          "name": "stdout",
          "output_type": "stream",
          "text": [
            "centroid model accuracy:  0.9\n",
            "1-NN model accuracy:  0.9125\n"
          ]
        },
        {
          "ename": "",
          "evalue": "",
          "output_type": "error",
          "traceback": [
            "\u001b[1;31mThe Kernel crashed while executing code in the current cell or a previous cell. \n",
            "\u001b[1;31mPlease review the code in the cell(s) to identify a possible cause of the failure. \n",
            "\u001b[1;31mClick <a href='https://aka.ms/vscodeJupyterKernelCrash'>here</a> for more info. \n",
            "\u001b[1;31mView Jupyter <a href='command:jupyter.viewOutput'>log</a> for further details."
          ]
        }
      ],
      "source": [
        "print(\"centroid model accuracy: \", acc)\n",
        "print(\"1-NN model accuracy: \", acc2)"
      ]
    }
  ],
  "metadata": {
    "colab": {
      "provenance": []
    },
    "kernelspec": {
      "display_name": "Python 3",
      "name": "python3"
    },
    "language_info": {
      "codemirror_mode": {
        "name": "ipython",
        "version": 3
      },
      "file_extension": ".py",
      "mimetype": "text/x-python",
      "name": "python",
      "nbconvert_exporter": "python",
      "pygments_lexer": "ipython3",
      "version": "3.13.5"
    }
  },
  "nbformat": 4,
  "nbformat_minor": 0
}
