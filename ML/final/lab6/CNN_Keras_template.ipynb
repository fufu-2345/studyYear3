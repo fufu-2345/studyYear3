{
  "cells": [
    {
      "cell_type": "markdown",
      "metadata": {},
      "source": [
        "### Install tensorflow / Keras Lib. \n",
        "#### pip install tensorflow"
      ]
    },
    {
      "cell_type": "code",
      "execution_count": null,
      "metadata": {},
      "outputs": [],
      "source": [
        "from tensorflow import keras    ## use keras API \n"
      ]
    },
    {
      "cell_type": "code",
      "execution_count": null,
      "metadata": {
        "id": "j-jXtWrXzury"
      },
      "outputs": [],
      "source": [
        "from tensorflow.keras.models import Sequential    ## create a sequential model  \n",
        "##  28*28 -> 8 filters of 3*3 with relu -> maxpooling -> flatten -> output 10 units with softmax\n",
        "#  \n",
        "model = Sequential([\n",
        "\n",
        "\n",
        "])"
      ]
    },
    {
      "cell_type": "markdown",
      "metadata": {
        "id": "K-O69Omd1GuP"
      },
      "source": [
        "Network Summary Report"
      ]
    },
    {
      "cell_type": "code",
      "execution_count": null,
      "metadata": {
        "id": "bB7FYiIa0Buz"
      },
      "outputs": [],
      "source": [
        "model.summary()"
      ]
    },
    {
      "cell_type": "markdown",
      "metadata": {
        "id": "zld64dVE1L5s"
      },
      "source": [
        "## Configuration the training process"
      ]
    },
    {
      "cell_type": "code",
      "execution_count": null,
      "metadata": {
        "id": "XWoYpOMWz4g1"
      },
      "outputs": [],
      "source": [
        "## use optimizer = 'sgd' /  'adam', loss function = 'cross entropy loss', metrics = 'accuracy', lr = 0.0005\n",
        "model.compile(\n",
        "\n",
        "\n",
        ")"
      ]
    },
    {
      "cell_type": "markdown",
      "metadata": {
        "id": "RWgxY0c31PRc"
      },
      "source": [
        "## Training the model"
      ]
    },
    {
      "cell_type": "code",
      "execution_count": null,
      "metadata": {
        "id": "7Wmg2gyPz_tp"
      },
      "outputs": [],
      "source": [
        "### epochs = 10, batch size = 64 \n",
        "hist = model.fit(\n",
        "\n",
        "\n",
        ")\n",
        "\n",
        "import matplotlib.pyplot as plt     ### plot loss curve wrt epochs\n",
        "\n",
        "plt.plot(hist.history['loss'])     ### you can change to accuracy curve wrt epochs\n",
        "plt.xlabel('epoch')\n",
        "plt.ylabel('loss')\n",
        "plt.show()"
      ]
    },
    {
      "cell_type": "markdown",
      "metadata": {
        "id": "OlAyvUIO1Rzd"
      },
      "source": [
        "## Test predictions"
      ]
    },
    {
      "cell_type": "code",
      "execution_count": null,
      "metadata": {
        "id": "65W6hdGK0eld"
      },
      "outputs": [],
      "source": [
        "import numpy as np\n",
        "\n",
        "predictions = model.predict(test_images)\n",
        "\n",
        "print('predicted_labels ')\n",
        "print('actual labels', test_labels)\n"
      ]
    },
    {
      "cell_type": "markdown",
      "metadata": {
        "id": "ZMLMisvs1VqZ"
      },
      "source": [
        "## Performance evaluation"
      ]
    },
    {
      "cell_type": "code",
      "execution_count": null,
      "metadata": {
        "id": "m8M4YO5U0w4y"
      },
      "outputs": [],
      "source": [
        "acc = model.evaluate ()"
      ]
    }
  ],
  "metadata": {
    "colab": {
      "provenance": []
    },
    "kernelspec": {
      "display_name": "Python 3",
      "name": "python3"
    },
    "language_info": {
      "codemirror_mode": {
        "name": "ipython",
        "version": 3
      },
      "file_extension": ".py",
      "mimetype": "text/x-python",
      "name": "python",
      "nbconvert_exporter": "python",
      "pygments_lexer": "ipython3",
      "version": "3.13.7"
    }
  },
  "nbformat": 4,
  "nbformat_minor": 0
}
